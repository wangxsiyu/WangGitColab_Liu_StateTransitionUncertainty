{
 "cells": [
  {
   "cell_type": "code",
   "execution_count": 1,
   "metadata": {},
   "outputs": [
    {
     "name": "stdout",
     "output_type": "stream",
     "text": [
      "render mode: None\n"
     ]
    }
   ],
   "source": [
    "import numpy as np\n",
    "import torch \n",
    "import os\n",
    "from W_Env.W_Env import W_Env\n",
    "from W_A2C import W_A2C\n",
    "from W_LSTM_AC import W_LSTM_AC\n",
    "from W_trainer import W_Env_trainer\n",
    "\n",
    "render_mode = None\n",
    "n_maxTrials = 100\n",
    "env = W_Env('TwoStep_simple', render_mode = render_mode, \\\n",
    "                        n_maxTrials = n_maxTrials, is_ITI = False)"
   ]
  },
  {
   "cell_type": "code",
   "execution_count": 2,
   "metadata": {},
   "outputs": [],
   "source": [
    "a2c = W_LSTM_AC(env._len_observation(), 48, env._len_actions())\n"
   ]
  },
  {
   "cell_type": "code",
   "execution_count": 3,
   "metadata": {},
   "outputs": [],
   "source": [
    "\n",
    "savename = './models/mymodel_iter20000.pt'\n",
    "if os.path.isfile(savename):\n",
    "    print(f'load {savename}')\n",
    "    a2c.load_state_dict(torch.load(savename))"
   ]
  },
  {
   "cell_type": "code",
   "execution_count": 4,
   "metadata": {},
   "outputs": [],
   "source": [
    "trainer = W_A2C(a2c)\n",
    "worker =W_Env_trainer(env, trainer)"
   ]
  },
  {
   "cell_type": "code",
   "execution_count": 11,
   "metadata": {},
   "outputs": [
    {
     "name": "stdout",
     "output_type": "stream",
     "text": [
      "0\n",
      "1\n",
      "2\n",
      "3\n"
     ]
    },
    {
     "name": "stderr",
     "output_type": "stream",
     "text": [
      "c:\\Program_Files_Wang\\Anaconda\\envs\\pytorch\\lib\\site-packages\\torch\\nn\\modules\\container.py:139: UserWarning: Implicit dimension choice for softmax has been deprecated. Change the call to include dim=X as an argument.\n",
      "  input = module(input)\n"
     ]
    },
    {
     "name": "stdout",
     "output_type": "stream",
     "text": [
      "4\n",
      "5\n",
      "6\n",
      "7\n",
      "8\n",
      "9\n",
      "10\n",
      "11\n",
      "12\n",
      "13\n",
      "14\n",
      "15\n",
      "16\n",
      "17\n",
      "18\n",
      "19\n",
      "20\n",
      "21\n",
      "22\n",
      "23\n",
      "24\n",
      "25\n",
      "26\n",
      "27\n",
      "28\n",
      "29\n",
      "30\n",
      "31\n",
      "32\n",
      "33\n",
      "34\n",
      "35\n",
      "36\n",
      "37\n",
      "38\n",
      "39\n",
      "40\n",
      "41\n",
      "42\n",
      "43\n",
      "44\n",
      "45\n",
      "46\n",
      "47\n",
      "48\n",
      "49\n",
      "50\n",
      "51\n",
      "52\n",
      "53\n",
      "54\n",
      "55\n",
      "56\n",
      "57\n",
      "58\n",
      "59\n",
      "60\n",
      "61\n",
      "62\n",
      "63\n",
      "64\n",
      "65\n",
      "66\n",
      "67\n",
      "68\n",
      "69\n",
      "70\n",
      "71\n",
      "72\n",
      "73\n",
      "74\n",
      "75\n",
      "76\n",
      "77\n",
      "78\n",
      "79\n",
      "80\n",
      "81\n",
      "82\n",
      "83\n",
      "84\n",
      "85\n",
      "86\n",
      "87\n",
      "88\n",
      "89\n",
      "90\n",
      "91\n",
      "92\n",
      "93\n",
      "94\n",
      "95\n",
      "96\n",
      "97\n",
      "98\n",
      "99\n"
     ]
    }
   ],
   "source": [
    "n_iters = 100 \n",
    "a1s = []\n",
    "r1s = []\n",
    "c1s = []\n",
    "for i in range(n_iters):\n",
    "    print(i)\n",
    "    obs, actions, rewards, treward_history, info = worker.record_behavior()\n",
    "    id = np.arange(0,len(actions),2)\n",
    "    id1 = np.arange(1,len(actions),2)\n",
    "    tactions = torch.stack(actions).numpy()\n",
    "    c = np.array(tactions)[id]\n",
    "    c = c.squeeze()\n",
    "    c = c+ 1\n",
    "    c = 3- c\n",
    "    r = np.array(rewards)[id1]\n",
    "    tobs = torch.stack(obs).numpy()\n",
    "    pl = np.sum(tobs[id1,1:3] * np.array([1,2]), axis = 1).squeeze()\n",
    "    is_cm = (pl == c).astype(int)\n",
    "    is_rp = (c[:-1] == c[1:]).astype(int)\n",
    "    a1s.append(is_rp)\n",
    "    c1s.append(is_cm[:-1])\n",
    "    r1s.append(r[:-1])"
   ]
  },
  {
   "cell_type": "code",
   "execution_count": 12,
   "metadata": {},
   "outputs": [],
   "source": [
    "a1s = np.hstack(a1s)\n",
    "c1s = np.hstack(c1s)\n",
    "r1s = np.hstack(r1s)\n"
   ]
  },
  {
   "cell_type": "code",
   "execution_count": 15,
   "metadata": {},
   "outputs": [
    {
     "name": "stdout",
     "output_type": "stream",
     "text": [
      "[1 0 0 1 0 1 0 0 1 1] [0. 1. 1. 0. 1. 1. 1. 0. 0. 1.] [1 0 1 1 0 1 1 1 0 1]\n"
     ]
    }
   ],
   "source": [
    "print(a1s[:10], r1s[:10], c1s[:10])"
   ]
  },
  {
   "cell_type": "code",
   "execution_count": 21,
   "metadata": {},
   "outputs": [
    {
     "data": {
      "text/plain": [
       "0.5059595959595959"
      ]
     },
     "execution_count": 21,
     "metadata": {},
     "output_type": "execute_result"
    }
   ],
   "source": [
    "np.mean(r1s)"
   ]
  },
  {
   "cell_type": "code",
   "execution_count": 19,
   "metadata": {},
   "outputs": [
    {
     "name": "stdout",
     "output_type": "stream",
     "text": [
      "[0.5049900199600799, 0.5204795204795205, 0.48530927835051546, 0.5103857566765578]\n"
     ]
    }
   ],
   "source": [
    "o1 = np.mean(a1s[(r1s == 0) & (c1s == 0)])\n",
    "o2 =np.mean(a1s[(r1s == 0) & (c1s == 1)])\n",
    "o3 =np.mean(a1s[(r1s == 1) & (c1s == 0)])\n",
    "o4 =np.mean(a1s[(r1s == 1) & (c1s == 1)])\n",
    "\n",
    "print([o4, o3, o2, o1])"
   ]
  }
 ],
 "metadata": {
  "kernelspec": {
   "display_name": "pytorch",
   "language": "python",
   "name": "python3"
  },
  "language_info": {
   "codemirror_mode": {
    "name": "ipython",
    "version": 3
   },
   "file_extension": ".py",
   "mimetype": "text/x-python",
   "name": "python",
   "nbconvert_exporter": "python",
   "pygments_lexer": "ipython3",
   "version": "3.9.13"
  },
  "orig_nbformat": 4
 },
 "nbformat": 4,
 "nbformat_minor": 2
}
